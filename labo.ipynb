{
 "cells": [
  {
   "cell_type": "code",
   "execution_count": 3,
   "metadata": {},
   "outputs": [],
   "source": [
    "from transformers import AutoTokenizer"
   ]
  },
  {
   "cell_type": "code",
   "execution_count": 4,
   "metadata": {},
   "outputs": [],
   "source": [
    "tokenizer = AutoTokenizer.from_pretrained(\"abdeljalilELmajjodi/darija-ary-tokenizer\")"
   ]
  },
  {
   "cell_type": "code",
   "execution_count": 5,
   "metadata": {},
   "outputs": [
    {
     "data": {
      "text/plain": [
       "[2310, 7447, 81, 21140]"
      ]
     },
     "execution_count": 5,
     "metadata": {},
     "output_type": "execute_result"
    }
   ],
   "source": [
    "tokenizer.encode(\"\")"
   ]
  },
  {
   "cell_type": "code",
   "execution_count": 37,
   "metadata": {},
   "outputs": [],
   "source": [
    "def get_tokenizer(id):\n",
    "    tokenizer = AutoTokenizer.from_pretrained(id,trust_remote_code=True)\n",
    "    return tokenizer\n",
    "def get_tokenization(tokenizer, text):\n",
    "    ids=tokenizer(text)\n",
    "    string_tokens = tokenizer.convert_ids_to_tokens(ids)\n",
    "    return string_tokens"
   ]
  },
  {
   "cell_type": "code",
   "execution_count": 42,
   "metadata": {},
   "outputs": [
    {
     "data": {
      "application/vnd.jupyter.widget-view+json": {
       "model_id": "ab5528357abf4a92aaab7ea936097f7b",
       "version_major": 2,
       "version_minor": 0
      },
      "text/plain": [
       "VBox(children=(HTML(value='<center> <img\\nsrc=https://huggingface.co/front/assets/huggingface_logo-noborder.sv…"
      ]
     },
     "metadata": {},
     "output_type": "display_data"
    }
   ],
   "source": []
  },
  {
   "cell_type": "code",
   "execution_count": 38,
   "metadata": {},
   "outputs": [],
   "source": [
    "text=\"ممتيقنينش، و لكن واقيلا كان عندو واحد اللسان مفروق على جوج و كان كياكل غير السلاحف و الحوت الكبير و شي حوت آخر و واقيلا كان كياكل حتا اللحم ديال البشر.\""
   ]
  },
  {
   "cell_type": "code",
   "execution_count": 48,
   "metadata": {},
   "outputs": [],
   "source": [
    "tokenizer1 = get_tokenizer(\"inceptionai/jais-13b\")\n",
    "#tokenizer2 = get_tokenizer(\"abdeljalilELmajjodi/darija-ary-tokenizer_v33k\")"
   ]
  },
  {
   "cell_type": "code",
   "execution_count": 61,
   "metadata": {},
   "outputs": [
    {
     "name": "stdout",
     "output_type": "stream",
     "text": [
      "['ÙħÙħ', 'ØªÙĬÙĤ', 'ÙĨÙĬÙĨ', 'Ø´', 'ØĮ', 'ĠÙĪ', 'ĠÙĦÙĥÙĨ', 'ĠÙĪØ§ÙĤ', 'ÙĬÙĦØ§', 'ĠÙĥØ§ÙĨ', 'ĠØ¹ÙĨØ¯', 'ÙĪ', 'ĠÙĪØ§ØŃØ¯', 'ĠØ§ÙĦÙĦØ³Ø§ÙĨ', 'ĠÙħÙģØ±', 'ÙĪÙĤ', 'ĠØ¹ÙĦÙī', 'ĠØ¬', 'ÙĪØ¬', 'ĠÙĪ', 'ĠÙĥØ§ÙĨ', 'ĠÙĥ', 'ÙĬØ§ÙĥÙĦ', 'ĠØºÙĬØ±', 'ĠØ§ÙĦØ³ÙĦØ§ØŃ', 'Ùģ', 'ĠÙĪ', 'ĠØ§ÙĦØŃÙĪØª', 'ĠØ§ÙĦÙĥØ¨ÙĬØ±', 'ĠÙĪ', 'ĠØ´ÙĬ', 'ĠØŃ', 'ÙĪØª', 'ĠØ¢Ø®Ø±', 'ĠÙĪ', 'ĠÙĪØ§ÙĤ', 'ÙĬÙĦØ§', 'ĠÙĥØ§ÙĨ', 'ĠÙĥ', 'ÙĬØ§ÙĥÙĦ', 'ĠØŃ', 'ØªØ§', 'ĠØ§ÙĦÙĦØŃÙħ', 'ĠØ¯ÙĬØ§ÙĦ', 'ĠØ§ÙĦØ¨Ø´Ø±', '.']\n"
     ]
    }
   ],
   "source": [
    "#tokenization = get_tokenization(tokenizer1, text)\n",
    "tokenization = tokenizer1(text).input_ids\n",
    "result=tokenizer1.decode(tokenization)\n",
    "r=tokenizer1.convert_tokens_to_string(tokenizer1.convert_ids_to_tokens(tokenization))\n",
    "print(tokenizer1.convert_ids_to_tokens(tokenization,skip_special_tokens=True))\n",
    "#tokenization2 = get_tokenization(tokenizer2, text)\n",
    "#print(tokenization2)"
   ]
  },
  {
   "cell_type": "code",
   "execution_count": 31,
   "metadata": {},
   "outputs": [
    {
     "data": {
      "text/plain": [
       "'ممتيقنينش، و لكن واقيلا كان عندو واحد اللسان مفروق على جوج و كان كياكل غير السلاحف و الحوت الكبير و شي حوت آخر و واقيلا كان كياكل حتا اللحم ديال البشر.'"
      ]
     },
     "execution_count": 31,
     "metadata": {},
     "output_type": "execute_result"
    }
   ],
   "source": [
    "import tiktoken\n",
    "gpt_tokenizer=tiktoken.encoding_for_model(\"gpt-4o\")\n"
   ]
  },
  {
   "cell_type": "code",
   "execution_count": null,
   "metadata": {},
   "outputs": [],
   "source": [
    "encode=gpt_tokenizer.encode(text)\n",
    "gpt_tokenizer."
   ]
  },
  {
   "cell_type": "code",
   "execution_count": 46,
   "metadata": {},
   "outputs": [
    {
     "data": {
      "application/vnd.jupyter.widget-view+json": {
       "model_id": "871d5f2cae9847a3866e13c66c3fe31e",
       "version_major": 2,
       "version_minor": 0
      },
      "text/plain": [
       "VBox(children=(HTML(value='<center> <img\\nsrc=https://huggingface.co/front/assets/huggingface_logo-noborder.sv…"
      ]
     },
     "metadata": {},
     "output_type": "display_data"
    }
   ],
   "source": [
    "from huggingface_hub import login\n",
    "login()"
   ]
  },
  {
   "cell_type": "code",
   "execution_count": null,
   "metadata": {},
   "outputs": [],
   "source": []
  }
 ],
 "metadata": {
  "kernelspec": {
   "display_name": "env",
   "language": "python",
   "name": "python3"
  },
  "language_info": {
   "codemirror_mode": {
    "name": "ipython",
    "version": 3
   },
   "file_extension": ".py",
   "mimetype": "text/x-python",
   "name": "python",
   "nbconvert_exporter": "python",
   "pygments_lexer": "ipython3",
   "version": "3.10.13"
  }
 },
 "nbformat": 4,
 "nbformat_minor": 2
}
